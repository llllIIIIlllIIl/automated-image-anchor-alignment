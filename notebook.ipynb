{
 "cells": [
  {
   "cell_type": "code",
   "execution_count": null,
   "id": "6b11175e-b062-4143-bc7c-1e79e9733fc1",
   "metadata": {},
   "outputs": [],
   "source": [
    "from src.barycentre import *\n",
    "from natsort import natsorted\n",
    "import pandas as pd\n",
    "import numpy as np\n",
    "import glob\n",
    "import math"
   ]
  },
  {
   "cell_type": "code",
   "execution_count": null,
   "id": "3d8d149b-7725-4ede-ad86-dbae1b45d643",
   "metadata": {},
   "outputs": [],
   "source": [
    "photos_paths = glob.glob(\"photos/*\")\n",
    "photos_paths = natsorted(photos_paths)"
   ]
  },
  {
   "cell_type": "code",
   "execution_count": null,
   "id": "ca447322-6e37-44b9-a7ab-60b02886a77d",
   "metadata": {},
   "outputs": [],
   "source": [
    "df = pd.DataFrame(np.arange(4839).reshape((1613, 3)), columns=['filename', 'barycenter', 'surface'])\n",
    "df[\"filename\"] = df[\"filename\"].astype(str)\n",
    "df[\"barycenter\"] = df[\"barycenter\"].astype(str)\n",
    "df[\"surface\"] = df[\"surface\"].astype(int)"
   ]
  },
  {
   "cell_type": "code",
   "execution_count": null,
   "id": "faa761aa-ea40-4851-bb9a-98df9cc7b1f5",
   "metadata": {},
   "outputs": [],
   "source": [
    "with open(\"descripteurs.txt\", \"w\") as filout:\n",
    "    for i, photo_path in enumerate(photos_paths):\n",
    "        image = face_recognition.load_image_file(photo_path)\n",
    "        image_name = photo_path[7:]\n",
    "        face = get_ancrage(image)\n",
    "        if face == False:\n",
    "            continue\n",
    "        df.iloc[i] = {'filename' : image_name, 'barycenter' : (face[0][0],face[0][1]), 'surface': face[1]}\n",
    "        if i % 50 == 0:\n",
    "            print(i)\n",
    "        #filout.write(f\"{image_name}|{face[0][0]},{face[0][1]},{face[1]}\\n\")"
   ]
  },
  {
   "cell_type": "code",
   "execution_count": null,
   "id": "4dd29958-715d-4c24-bae8-f98435a5db02",
   "metadata": {},
   "outputs": [],
   "source": [
    "x = df[\"filename\"].str.contains(\"img\") # selecting rows to supress, if not img"
   ]
  },
  {
   "cell_type": "code",
   "execution_count": null,
   "id": "216fb8ce-4d9a-4004-aaba-29d82b934fad",
   "metadata": {},
   "outputs": [],
   "source": [
    "df = df.drop(df[(x == False).values].index)"
   ]
  },
  {
   "cell_type": "code",
   "execution_count": null,
   "id": "dd9f601a-5e70-45b9-a848-8f3ae9c660e0",
   "metadata": {},
   "outputs": [],
   "source": [
    "df = df.sort_values(by=\"surface\")"
   ]
  },
  {
   "cell_type": "code",
   "execution_count": null,
   "id": "ab4c10e6-8c2c-4e9f-8e11-80101559aa9e",
   "metadata": {},
   "outputs": [],
   "source": [
    "df.to_json(\"dataframe.json\")"
   ]
  },
  {
   "cell_type": "code",
   "execution_count": null,
   "id": "f94ea947-0e94-46f0-b52d-615945b0dad8",
   "metadata": {},
   "outputs": [],
   "source": [
    "w = 2500 # to create bins of size 2500\n",
    "\n",
    "n = math.ceil((df[\"surface\"].max() - df[\"surface\"].min())/w)\n",
    "\n",
    "df.hist(column=\"surface\", bins=n)"
   ]
  },
  {
   "cell_type": "code",
   "execution_count": null,
   "id": "aa001cac-31e9-4c0b-bb30-d4fae7e279e5",
   "metadata": {},
   "outputs": [],
   "source": [
    "df[\"surface\"].describe()"
   ]
  },
  {
   "cell_type": "code",
   "execution_count": null,
   "id": "467630d8-40f0-4fd5-9a9b-f1cc7b8365ef",
   "metadata": {},
   "outputs": [],
   "source": [
    "sample = df[(df[\"surface\"] > 5600).values]"
   ]
  },
  {
   "cell_type": "code",
   "execution_count": null,
   "id": "995e222f-c968-4eba-8d47-dbf25463e48f",
   "metadata": {},
   "outputs": [],
   "source": [
    "# shuffleing rows\n",
    "sample = sample.sample(frac=1).reset_index(drop=True)"
   ]
  },
  {
   "cell_type": "code",
   "execution_count": null,
   "id": "fc254884-6203-4f64-bfb0-7411a521309a",
   "metadata": {},
   "outputs": [],
   "source": [
    "croissant = sample.iloc[:615].copy(deep=True)\n",
    "croissant = croissant.sort_values(by=\"surface\")"
   ]
  },
  {
   "cell_type": "code",
   "execution_count": null,
   "id": "f8682c77-195f-4c10-8cc9-404b4bc51694",
   "metadata": {},
   "outputs": [],
   "source": [
    "decroissant = sample[615:].copy(deep=True)\n",
    "decroissant = decroissant.sort_values(by=\"surface\", ascending=False)"
   ]
  },
  {
   "cell_type": "code",
   "execution_count": null,
   "id": "04fbf0e6-066a-4d43-b015-7589f42a976f",
   "metadata": {},
   "outputs": [],
   "source": [
    "croissant.drop([30, 308, 596], inplace = True) # dropping last big faces"
   ]
  },
  {
   "cell_type": "code",
   "execution_count": null,
   "id": "f62133ff-ca0f-485b-a94f-77108c5abb1e",
   "metadata": {},
   "outputs": [],
   "source": [
    "with open(\"croissant_decroissant.txt\", \"w\") as filout:\n",
    "    for row in croissant.itertuples():\n",
    "        filout.write(f\"{row[1]}|{tuple(row[2])[0]},{tuple(row[2])[1]}\\n\")\n",
    "    for row in decroissant.itertuples():\n",
    "        filout.write(f\"{row[1]}|{tuple(row[2])[0]},{tuple(row[2])[1]}\\n\")"
   ]
  }
 ],
 "metadata": {
  "kernelspec": {
   "display_name": "Python 3 (ipykernel)",
   "language": "python",
   "name": "python3"
  },
  "language_info": {
   "codemirror_mode": {
    "name": "ipython",
    "version": 3
   },
   "file_extension": ".py",
   "mimetype": "text/x-python",
   "name": "python",
   "nbconvert_exporter": "python",
   "pygments_lexer": "ipython3",
   "version": "3.9.7"
  }
 },
 "nbformat": 4,
 "nbformat_minor": 5
}
